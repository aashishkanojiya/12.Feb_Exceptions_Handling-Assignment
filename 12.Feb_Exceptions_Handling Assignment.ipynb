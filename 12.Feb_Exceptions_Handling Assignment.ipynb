{
  "metadata": {
    "kernelspec": {
      "name": "python",
      "display_name": "Python (Pyodide)",
      "language": "python"
    },
    "language_info": {
      "codemirror_mode": {
        "name": "python",
        "version": 3
      },
      "file_extension": ".py",
      "mimetype": "text/x-python",
      "name": "python",
      "nbconvert_exporter": "python",
      "pygments_lexer": "ipython3",
      "version": "3.8"
    }
  },
  "nbformat_minor": 4,
  "nbformat": 4,
  "cells": [
    {
      "cell_type": "markdown",
      "source": "Q1. What is an Exception in python? Write the difference between Exceptions and Syntax errors.",
      "metadata": {}
    },
    {
      "cell_type": "markdown",
      "source": "Answer:-An exception is an error that occurs during the execution of a program. When an exception occurs, the normal flow of the program is disrupted, and the program may terminate unless the exception is handle.\n\nExample of Exception",
      "metadata": {}
    },
    {
      "cell_type": "code",
      "source": "try:\n    result = 10 / 0\nexcept ZeroDivisionError:\n    print(\"Cannot divide by zero!\")",
      "metadata": {
        "trusted": true
      },
      "outputs": [
        {
          "name": "stdout",
          "text": "Cannot divide by zero!\n",
          "output_type": "stream"
        }
      ],
      "execution_count": 1
    },
    {
      "cell_type": "markdown",
      "source": "In the above code a ZeroDivisionError exception is raised because of division by zero, but it is caught and handled by the except block.",
      "metadata": {}
    },
    {
      "cell_type": "markdown",
      "source": "Difference between Exceptions and Syntax errors are as follows:-\n(*) Exceptions:- 1.Occurs at runtime during program execution\n2.Due to operations that are incorrect but syntactically valid (e.g., dividing by zero, accessing a file that doesn’t exist)\n3.Can be caught and handled using try-except blocks\n4.e.g.ZeroDivisionError, FileNotFoundError\n\n(*) Syntax Error:- 1.Occurs at compile-time before program execution\n2.Due to code that does not conform to the language syntax (e.g., missing colons, incorrect indentation)\n3.Cannot be caught or handled; must be fixed in the code\n4.e.g. SyntaxError",
      "metadata": {}
    },
    {
      "cell_type": "code",
      "source": "#Example of Syntax error\nif True\n    print(\"This will cause a syntax error\")\n",
      "metadata": {
        "trusted": true
      },
      "outputs": [
        {
          "ename": "<class 'SyntaxError'>",
          "evalue": "expected ':' (<ipython-input-2-d2a3a6b278b6>, line 2)",
          "traceback": [
            "\u001b[0;36m  Cell \u001b[0;32mIn[2], line 2\u001b[0;36m\u001b[0m\n\u001b[0;31m    if True\u001b[0m\n\u001b[0m           ^\u001b[0m\n\u001b[0;31mSyntaxError\u001b[0m\u001b[0;31m:\u001b[0m expected ':'\n"
          ],
          "output_type": "error"
        }
      ],
      "execution_count": 2
    },
    {
      "cell_type": "markdown",
      "source": "In the above code a SyntaxError occurs because of the missing colon after if True",
      "metadata": {}
    },
    {
      "cell_type": "markdown",
      "source": "Q2. What happens when an exception is not handled? Explain with an example.",
      "metadata": {}
    },
    {
      "cell_type": "markdown",
      "source": "Answer:-When an exception is not handled in Python, the program stops running immediately, and an error message with a traceback is displayed. This abrupt termination prevents any code after the exception from executing.\n\nExample of unhandled Exception:-",
      "metadata": {}
    },
    {
      "cell_type": "code",
      "source": "def divide(a, b):\n    return a / b\n\nresult = divide(10, 0)\nprint(result)\n\n## In this codeThe divide function attempts to divide 10 by 0.This raises a ZeroDivisionError because division by zero is not allowed.",
      "metadata": {
        "trusted": true
      },
      "outputs": [
        {
          "ename": "<class 'ZeroDivisionError'>",
          "evalue": "division by zero",
          "traceback": [
            "\u001b[0;31m---------------------------------------------------------------------------\u001b[0m",
            "\u001b[0;31mZeroDivisionError\u001b[0m                         Traceback (most recent call last)",
            "Cell \u001b[0;32mIn[7], line 4\u001b[0m\n\u001b[1;32m      1\u001b[0m \u001b[38;5;28;01mdef\u001b[39;00m \u001b[38;5;21mdivide\u001b[39m(a, b):\n\u001b[1;32m      2\u001b[0m     \u001b[38;5;28;01mreturn\u001b[39;00m a \u001b[38;5;241m/\u001b[39m b\n\u001b[0;32m----> 4\u001b[0m result \u001b[38;5;241m=\u001b[39m \u001b[43mdivide\u001b[49m\u001b[43m(\u001b[49m\u001b[38;5;241;43m10\u001b[39;49m\u001b[43m,\u001b[49m\u001b[43m \u001b[49m\u001b[38;5;241;43m0\u001b[39;49m\u001b[43m)\u001b[49m\n\u001b[1;32m      5\u001b[0m \u001b[38;5;28mprint\u001b[39m(result)\n",
            "Cell \u001b[0;32mIn[7], line 2\u001b[0m, in \u001b[0;36mdivide\u001b[0;34m(a, b)\u001b[0m\n\u001b[1;32m      1\u001b[0m \u001b[38;5;28;01mdef\u001b[39;00m \u001b[38;5;21mdivide\u001b[39m(a, b):\n\u001b[0;32m----> 2\u001b[0m     \u001b[38;5;28;01mreturn\u001b[39;00m \u001b[43ma\u001b[49m\u001b[43m \u001b[49m\u001b[38;5;241;43m/\u001b[39;49m\u001b[43m \u001b[49m\u001b[43mb\u001b[49m\n",
            "\u001b[0;31mZeroDivisionError\u001b[0m: division by zero"
          ],
          "output_type": "error"
        }
      ],
      "execution_count": 7
    },
    {
      "cell_type": "code",
      "source": "## We can handle this error by using try-except block:\n\ndef divide(a, b):\n    try:\n        return a / b\n    except ZeroDivisionError:\n        return \"Division by zero is not allowed.\"\n\nresult = divide(10, 0)\nprint(result)\n\n\n## In this code The try block contains the code that might raise an exception.The except block handles the ZeroDivisionError, providing a user-friendly message instead of crashing the program.",
      "metadata": {
        "trusted": true
      },
      "outputs": [
        {
          "name": "stdout",
          "text": "Division by zero is not allowed.\n",
          "output_type": "stream"
        }
      ],
      "execution_count": 8
    },
    {
      "cell_type": "markdown",
      "source": "Q3. Which Python statements are used to catch and handle exceptions? Explain with an example.",
      "metadata": {}
    },
    {
      "cell_type": "markdown",
      "source": "Answer:-In Python, the statements used to catch and handle exceptions are try, except, else, and finally.\n1.try: The block of code that might raise an exception is placed inside the try block.\n2.except: If an exception occurs, the code inside the except block is executed.\n3.else: If no exception occurs, the code inside the else block is executed.\n4.finally: The code inside the finally block is always executed, regardless of whether an exception occurred or not. This is typically used for cleanup actions.\n\nExample:-",
      "metadata": {}
    },
    {
      "cell_type": "code",
      "source": "try:\n    \n    num1 = 10\n    num2 = 0\n    result = num1 / num2\nexcept ZeroDivisionError:\n    # Handling the exception\n    print(\"Error: Division by zero is not allowed.\")\nelse:\n    # Executed if no exception occurs\n    print(f\"The result is {result}.\")\nfinally:\n    # Always executed\n    print(\"Execution completed.\")\n",
      "metadata": {
        "trusted": true
      },
      "outputs": [
        {
          "name": "stdout",
          "text": "Error: Division by zero is not allowed.\nExecution completed.\n",
          "output_type": "stream"
        }
      ],
      "execution_count": 9
    },
    {
      "cell_type": "markdown",
      "source": "In the aboce code:- 1.The try block contains code that attempts to divide 10 by 0, which raises a ZeroDivisionError.\n2.The except block catches the ZeroDivisionError and prints an error message.\n3.The else block would execute if no exception occurs (it does not execute in this case).\n4.The finally block always executes, printing \"Execution completed.\"",
      "metadata": {}
    },
    {
      "cell_type": "markdown",
      "source": "Q4. Explain with an example:\na.try and else\nb.finally\nc.raise",
      "metadata": {}
    },
    {
      "cell_type": "markdown",
      "source": "Answer:-a. try and else\nThe try block is used to wrap code that might raise an exception, while the else block contains code that runs only if no exceptions are raised in the try block.\n\nExample of try and else",
      "metadata": {}
    },
    {
      "cell_type": "code",
      "source": "try:\n    num1 = 10\n    num2 = 2\n    result = num1 / num2\nexcept ZeroDivisionError:\n    print(\"Error: Division by zero is not allowed.\")\nelse:\n    # This block runs only if no exceptions were raised\n    print(f\"The result is {result}.\")\n\n## In this code the else block executes because no exception was raised in the try block.\n",
      "metadata": {
        "trusted": true
      },
      "outputs": [
        {
          "name": "stdout",
          "text": "The result is 5.0.\n",
          "output_type": "stream"
        }
      ],
      "execution_count": 10
    },
    {
      "cell_type": "markdown",
      "source": "b. finally\nThe finally block is used to execute code regardless of whether an exception was raised or not. It is typically used for cleanup actions like closing files or releasing resources.",
      "metadata": {}
    },
    {
      "cell_type": "code",
      "source": "try:\n    num1 = 10\n    num2 = 0\n    result = num1 / num2\nexcept ZeroDivisionError:\n    print(\"Error: Division by zero is not allowed.\")\nfinally:\n    print(\"Execution completed.\")\n\n## In this code the finally block runs whether the try block raises an exception or not.",
      "metadata": {
        "trusted": true
      },
      "outputs": [
        {
          "name": "stdout",
          "text": "Error: Division by zero is not allowed.\nExecution completed.\n",
          "output_type": "stream"
        }
      ],
      "execution_count": 11
    },
    {
      "cell_type": "markdown",
      "source": "c. raise\nThe raise statement is used to explicitly trigger an exception in your code. This can be useful for testing or when certain conditions are not met.",
      "metadata": {}
    },
    {
      "cell_type": "code",
      "source": "def check_age(age):\n    if age < 18:\n        raise ValueError(\"Age must be at least 18.\")\n    else:\n        print(\"Age is valid.\")\n\ntry:\n    check_age(16)\nexcept ValueError as e:\n    print(e)\n\n## In this code the raise statement triggers a ValueError when the age is less than 18, and the exception is caught and handled in the except block.",
      "metadata": {
        "trusted": true
      },
      "outputs": [
        {
          "name": "stdout",
          "text": "Age must be at least 18.\n",
          "output_type": "stream"
        }
      ],
      "execution_count": 12
    },
    {
      "cell_type": "markdown",
      "source": "Q5. What are Custom Exceptions in python? Why do we need Custom Exceptions? Explain with an example.",
      "metadata": {}
    },
    {
      "cell_type": "markdown",
      "source": "Answer:-Custom exceptions are user-defined exceptions that extend the capabilities of built-in exceptions. They allow developers to create specific error messages and handling mechanisms tailored to their application's needs.\n\nWhy do we need custom exceptions:-\n1.Specific Error Handling: They help in creating more specific and descriptive error messages, making debugging easier.\n2.Code Clarity: They improve the readability and maintainability of the code by clearly defining what kind of error occurred.\n3.Consistency: They ensure consistent error handling throughout the codebase.\n\nExample",
      "metadata": {}
    },
    {
      "cell_type": "code",
      "source": "class InvalidAgeError(Exception):\n    \"\"\"Custom exception for invalid ages.\"\"\"\n    def __init__(self, age, message=\"Age must be between 0 and 120.\"):\n        self.age = age\n        self.message = message\n        super().__init__(self.message)\n\ndef set_age(age):\n    if age < 0 or age > 120:\n        raise InvalidAgeError(age)\n    else:\n        print(f\"Age is set to {age}.\")\n\ntry:\n    set_age(150)\nexcept InvalidAgeError as e:\n    print(f\"InvalidAgeError: {e}\")\n",
      "metadata": {
        "trusted": true
      },
      "outputs": [
        {
          "name": "stdout",
          "text": "InvalidAgeError: Age must be between 0 and 120.\n",
          "output_type": "stream"
        }
      ],
      "execution_count": 13
    },
    {
      "cell_type": "markdown",
      "source": "In the above code Custom Exception: InvalidAgeError is created as a subclass of the built-in Exception class.Custom exceptions allow you to handle errors in a more meaningful way, making your code more robust and easier to debug",
      "metadata": {}
    },
    {
      "cell_type": "markdown",
      "source": "Q6. Create a custom exception class. Use this class to handle an exception.",
      "metadata": {}
    },
    {
      "cell_type": "code",
      "source": "Answer:-Here's an example of creating a custom exception class and using it to handle an exception.",
      "metadata": {
        "trusted": true
      },
      "outputs": [],
      "execution_count": null
    },
    {
      "cell_type": "code",
      "source": "## Custom Exception Class:\n\nclass NegativeNumberError(Exception):\n    \"\"\"Custom exception for negative numbers.\"\"\"\n    def __init__(self, number, message=\"Number cannot be negative\"):\n        self.number = number\n        self.message = message\n        super().__init__(self.message)",
      "metadata": {
        "trusted": true
      },
      "outputs": [],
      "execution_count": 14
    },
    {
      "cell_type": "code",
      "source": "##Using the Custom Exception:\n\ndef calculate_square_root(number):\n    if number < 0:\n        raise NegativeNumberError(number)\n    else:\n        return number ** 0.5\n\n# Example usage\ntry:\n    result = calculate_square_root(-10)\nexcept NegativeNumberError as e:\n    print(f\"NegativeNumberError: {e}\")\n",
      "metadata": {
        "trusted": true
      },
      "outputs": [
        {
          "name": "stdout",
          "text": "NegativeNumberError: Number cannot be negative\n",
          "output_type": "stream"
        }
      ],
      "execution_count": 15
    },
    {
      "cell_type": "markdown",
      "source": "The above code is the example of how to create and use a custom exception to handle specific error conditions in your Python programs",
      "metadata": {}
    }
  ]
}